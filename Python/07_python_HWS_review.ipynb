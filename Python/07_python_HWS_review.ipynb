{
 "cells": [
  {
   "cell_type": "markdown",
   "metadata": {},
   "source": [
    "1 Python type class\n",
    "int float str list tuple\n"
   ]
  },
  {
   "cell_type": "markdown",
   "metadata": {},
   "source": [
    "__init__ : 인스턴스가 실행될 때 바로 실행되는 것\n",
    "__del__: 인스턴스 삭제\n",
    "__str__ : 인스턴스 print() 할때 보여줄 값을 반환\n",
    "__repr__ : 인스턴스 자체가 반환할 값을 반환"
   ]
  },
  {
   "cell_type": "markdown",
   "metadata": {},
   "source": [
    "list.sort() list.append() list.expend()\n",
    "str : .upper() .lower() .isalpha() .isdecimal()\n",
    "dict : .items() .values() .get .update() 값을 갱신 할 때 "
   ]
  },
  {
   "cell_type": "markdown",
   "metadata": {},
   "source": [
    "nameerror -> 정의되지 않은 변수 사용하려 할때\n",
    "typeError -> 자료형에 대한 에러\n",
    "indexError -> 인덱스 범위를 넘어갔을 때\n",
    "moduleNotFoundError -> 모듈을 찾을 수 없을때\n",
    "importError -> 모듈을 있는데 클래스 매소드를 가져올 수 없을때"
   ]
  },
  {
   "cell_type": "markdown",
   "metadata": {},
   "source": [
    "#Workshop"
   ]
  },
  {
   "cell_type": "markdown",
   "metadata": {},
   "source": [
    "2\n",
    "  1. Faker 클래스를 faker패키지에서 불러오기\n",
    "  2. Faker는 클래스이고 fake는 Faker의 인스턴스 이다.\n",
    "  3. name() 매서드다"
   ]
  },
  {
   "cell_type": "markdown",
   "metadata": {},
   "source": [
    "3\n",
    " a) init  b) self  c) locale\n",
    " "
   ]
  },
  {
   "cell_type": "markdown",
   "metadata": {},
   "source": [
    "4"
   ]
  }
 ],
 "metadata": {
  "language_info": {
   "name": "python"
  },
  "orig_nbformat": 4
 },
 "nbformat": 4,
 "nbformat_minor": 2
}
