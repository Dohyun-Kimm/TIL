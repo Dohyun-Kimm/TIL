{
 "cells": [
  {
   "cell_type": "code",
   "execution_count": null,
   "metadata": {},
   "outputs": [],
   "source": [
    "class Dog:\n",
    "    kind = 'canine'\n",
    "\n",
    "    def __init__(self,name):\n",
    "        self.name = name\n",
    "        \n"
   ]
  },
  {
   "cell_type": "code",
   "execution_count": 6,
   "metadata": {},
   "outputs": [
    {
     "name": "stdout",
     "output_type": "stream",
     "text": [
      "[[0, 1, 19, 24, 10, 39], [19, 44, 0, 20, 12, 8], [5, 41, 10, 39, 32, 2], [8, 28, 16, 29, 6, 12], [35, 21, 38, 18, 14, 0]]\n"
     ]
    }
   ],
   "source": [
    "import random\n",
    "a_list = list()\n",
    "for _ in range(5):\n",
    "    a_list.append(random.sample(range(45),6))\n",
    "print(a_list)"
   ]
  },
  {
   "cell_type": "code",
   "execution_count": null,
   "metadata": {},
   "outputs": [],
   "source": [
    "class Tiger:\n",
    "    def __init__(self,name):\n",
    "        self.name = name\n",
    "        self.tricks =[]\n",
    "    def add_trick(self,trick):\n",
    "        self.tricks.append(trick)\n",
    "\n"
   ]
  },
  {
   "cell_type": "markdown",
   "metadata": {},
   "source": [
    "OOP 개발자의 입장에서 편하게  프로그램 할 수 있게 해줌\n",
    "Single Responsibility Principle 단일 책임 원칙\n",
    "책임 <- 분리해서 관리하기 편리"
   ]
  }
 ],
 "metadata": {
  "kernelspec": {
   "display_name": "Python 3.9.13 64-bit",
   "language": "python",
   "name": "python3"
  },
  "language_info": {
   "codemirror_mode": {
    "name": "ipython",
    "version": 3
   },
   "file_extension": ".py",
   "mimetype": "text/x-python",
   "name": "python",
   "nbconvert_exporter": "python",
   "pygments_lexer": "ipython3",
   "version": "3.9.13"
  },
  "orig_nbformat": 4,
  "vscode": {
   "interpreter": {
    "hash": "3d3579b64ed644892bc49d0da2d1890659408e00eebf25200bc250e1696a02dd"
   }
  }
 },
 "nbformat": 4,
 "nbformat_minor": 2
}
